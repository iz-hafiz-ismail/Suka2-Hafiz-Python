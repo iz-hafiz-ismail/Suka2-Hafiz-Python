{
 "cells": [
  {
   "cell_type": "markdown",
   "id": "f5f83771",
   "metadata": {},
   "source": [
    "Well this was very basic project to create multiple file"
   ]
  },
  {
   "cell_type": "code",
   "execution_count": 1,
   "id": "5cd61add",
   "metadata": {},
   "outputs": [],
   "source": [
    "# Izmary\n",
    "# basic project where it help creae multiple file with one click\n",
    "\n",
    "import os\n",
    "from pathlib import Path\n",
    "\n",
    "for x in range(34):  # create 34 folder\n",
    "    base_dir = r'Directory'\n",
    "    # custom rename file (e.g Section 1 -)\n",
    "    folder_name = \"Section \"+str(x)+\" - \"\n",
    "    newpath = os.path.join(base_dir, folder_name)\n",
    "    if not os.path.exists(newpath):\n",
    "        os.makedirs(newpath)"
   ]
  },
  {
   "cell_type": "code",
   "execution_count": null,
   "id": "71d1c9ba",
   "metadata": {},
   "outputs": [],
   "source": []
  }
 ],
 "metadata": {
  "kernelspec": {
   "display_name": "Python 3 (ipykernel)",
   "language": "python",
   "name": "python3"
  },
  "language_info": {
   "codemirror_mode": {
    "name": "ipython",
    "version": 3
   },
   "file_extension": ".py",
   "mimetype": "text/x-python",
   "name": "python",
   "nbconvert_exporter": "python",
   "pygments_lexer": "ipython3",
   "version": "3.10.0"
  }
 },
 "nbformat": 4,
 "nbformat_minor": 5
}
