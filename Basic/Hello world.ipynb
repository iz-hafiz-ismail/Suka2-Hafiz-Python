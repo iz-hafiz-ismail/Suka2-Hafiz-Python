{
 "cells": [
  {
   "cell_type": "markdown",
   "id": "f5f1c470",
   "metadata": {},
   "source": [
    "This one of the most basic starting point of my project. Well everything start with hello world"
   ]
  },
  {
   "cell_type": "code",
   "execution_count": 1,
   "id": "75283b3e",
   "metadata": {},
   "outputs": [
    {
     "name": "stdout",
     "output_type": "stream",
     "text": [
      "Hello world\n"
     ]
    }
   ],
   "source": [
    "# Izmary\n",
    "# Basic hello world\n",
    "msg = \"Hello world\"\n",
    "print(msg)\n",
    "\n"
   ]
  }
 ],
 "metadata": {
  "kernelspec": {
   "display_name": "Python 3 (ipykernel)",
   "language": "python",
   "name": "python3"
  },
  "language_info": {
   "codemirror_mode": {
    "name": "ipython",
    "version": 3
   },
   "file_extension": ".py",
   "mimetype": "text/x-python",
   "name": "python",
   "nbconvert_exporter": "python",
   "pygments_lexer": "ipython3",
   "version": "3.10.0"
  }
 },
 "nbformat": 4,
 "nbformat_minor": 5
}
