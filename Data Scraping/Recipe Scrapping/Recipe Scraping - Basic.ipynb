{
 "cells": [
  {
   "cell_type": "markdown",
   "id": "2aca9db6-c7ad-402c-93a8-ba33faff2102",
   "metadata": {},
   "source": [
    "Scraping data from https://www.anekaresipi.com/<br>\n",
    "we will scrap food recipe data for my android development project"
   ]
  },
  {
   "cell_type": "code",
   "execution_count": 1,
   "id": "3d8215ff-ac5a-419d-83b5-10631e09b973",
   "metadata": {
    "tags": []
   },
   "outputs": [
    {
     "name": "stdout",
     "output_type": "stream",
     "text": [
      "Requirement already satisfied: bs4 in d:\\program files\\python\\lib\\site-packages (0.0.1)\n",
      "Requirement already satisfied: beautifulsoup4 in d:\\program files\\python\\lib\\site-packages (from bs4) (4.10.0)\n",
      "Requirement already satisfied: soupsieve>1.2 in d:\\program files\\python\\lib\\site-packages (from beautifulsoup4->bs4) (2.3.1)\n"
     ]
    },
    {
     "name": "stderr",
     "output_type": "stream",
     "text": [
      "WARNING: Ignoring invalid distribution -ip (d:\\program files\\python\\lib\\site-packages)\n",
      "WARNING: Ignoring invalid distribution -ip (d:\\program files\\python\\lib\\site-packages)\n",
      "WARNING: Ignoring invalid distribution -ip (d:\\program files\\python\\lib\\site-packages)\n",
      "WARNING: Ignoring invalid distribution -ip (d:\\program files\\python\\lib\\site-packages)\n",
      "WARNING: Ignoring invalid distribution -ip (d:\\program files\\python\\lib\\site-packages)\n"
     ]
    },
    {
     "name": "stdout",
     "output_type": "stream",
     "text": [
      "Requirement already satisfied: requests in d:\\program files\\python\\lib\\site-packages (2.26.0)\n",
      "Requirement already satisfied: urllib3<1.27,>=1.21.1 in d:\\program files\\python\\lib\\site-packages (from requests) (1.26.7)\n",
      "Requirement already satisfied: certifi>=2017.4.17 in d:\\program files\\python\\lib\\site-packages (from requests) (2021.10.8)\n",
      "Requirement already satisfied: charset-normalizer~=2.0.0 in d:\\program files\\python\\lib\\site-packages (from requests) (2.0.7)\n",
      "Requirement already satisfied: idna<4,>=2.5 in d:\\program files\\python\\lib\\site-packages (from requests) (3.3)\n"
     ]
    },
    {
     "name": "stderr",
     "output_type": "stream",
     "text": [
      "WARNING: Ignoring invalid distribution -ip (d:\\program files\\python\\lib\\site-packages)\n",
      "WARNING: Ignoring invalid distribution -ip (d:\\program files\\python\\lib\\site-packages)\n",
      "WARNING: Ignoring invalid distribution -ip (d:\\program files\\python\\lib\\site-packages)\n",
      "WARNING: Ignoring invalid distribution -ip (d:\\program files\\python\\lib\\site-packages)\n",
      "WARNING: Ignoring invalid distribution -ip (d:\\program files\\python\\lib\\site-packages)\n"
     ]
    }
   ],
   "source": [
    "!pip install bs4\n",
    "!pip install requests"
   ]
  },
  {
   "cell_type": "code",
   "execution_count": 2,
   "id": "8e7c690b-a778-4442-8445-3842b95dcabb",
   "metadata": {},
   "outputs": [],
   "source": [
    "from bs4 import BeautifulSoup\n",
    "import requests\n",
    "import re"
   ]
  },
  {
   "cell_type": "code",
   "execution_count": 3,
   "id": "039d2740-0972-4005-b4ee-bfaef174ce07",
   "metadata": {},
   "outputs": [
    {
     "name": "stdout",
     "output_type": "stream",
     "text": [
      "<Response [200]>\n"
     ]
    }
   ],
   "source": [
    "page = requests.get('https://www.anekaresipi.com/2017/05/resepi-nasi-ayam-garing-sedap-simple.html')\n",
    "print(page)"
   ]
  },
  {
   "cell_type": "code",
   "execution_count": 4,
   "id": "65515cc3-0686-4ac6-a9a0-31d193c13b8d",
   "metadata": {
    "tags": []
   },
   "outputs": [],
   "source": [
    "soup = BeautifulSoup(page.text, \"html.parser\")\n",
    "# print(soup)"
   ]
  },
  {
   "cell_type": "code",
   "execution_count": 5,
   "id": "3dbbf4d9-cb9c-4c5c-861c-8af0c4c752b7",
   "metadata": {},
   "outputs": [
    {
     "name": "stdout",
     "output_type": "stream",
     "text": [
      "\"image_url\": \"https://lh3.googleusercontent.com/-cZnUHgBuCIw/WlnGfwkmonI/AAAAAAAAAn4/RunuSgMo-PY_DnD6QS6wxzfbV9algfi9ACHMYCw/s640-e60/nasi%2Bayam%2Bsedap_thumb\"\n",
      "\"title\": Resepi Nasi Ayam Terlajak Sedap\n",
      "\"subtitle\": Nasi ayam terbaik dan paling sedap abad ini\n",
      "\"cooking_duration\": 90\n",
      "\"portion\": 6 serving\n"
     ]
    }
   ],
   "source": [
    "title = soup.find(\"title\").text\n",
    "\n",
    "subtitle = soup.find(\"p\", class_=\"img-caption\").text\n",
    "\n",
    "img_arg = \"img\", {\"title\": title}\n",
    "el = soup.find_all(img_arg)[1]\n",
    "\n",
    "recipe_meta = soup.find(\"p\", class_=\"recipe-meta\").text\n",
    "recipe_meta = recipe_meta.split(\"♦ \")\n",
    "\n",
    "preparation_time = re.findall(r'\\d+', recipe_meta[0])[0]\n",
    "cooking_time = re.findall(r'\\d+', recipe_meta[1])[0]\n",
    "portion = re.findall(r'\\d+', recipe_meta[2])[0]\n",
    "\n",
    "recipe_total_time = int(preparation_time) + int(cooking_time)\n",
    "\n",
    "print(\"\\\"image_url\\\":\", \"\\\"\"+ el['src'] +\"\\\"\")\n",
    "print(\"\\\"title\\\":\", title)\n",
    "print(\"\\\"subtitle\\\":\", subtitle)\n",
    "print(\"\\\"cooking_duration\\\":\", recipe_total_time)\n",
    "print(\"\\\"portion\\\":\", portion, \"serving\")"
   ]
  },
  {
   "cell_type": "code",
   "execution_count": 6,
   "id": "acf2ddee-dac3-41b8-960d-60cd36e38483",
   "metadata": {},
   "outputs": [
    {
     "name": "stdout",
     "output_type": "stream",
     "text": [
      "\"ingredient\": [\"2 inci halia\", \"2 biji bawang besar\", \"7 ulas bawang putih\", \"2 sudu kecil garam\", \"5 biji cili merah\", \"3 biji cili padi\", \"1 inci halia\", \"5 ulas bawang putih\", \"1 ekor ayam\", \"3 sudu campuran halia, bawang putih dan bawang besar\", \"10 gelas air\", \"1/2 sudu kecil minyak bijan\", \"2 sudu besar kicap manis\", \"2 sudu besar kicap cair\", \"2 sudu besar sos tiram\", \"1 sudu besar madu -\", \"Minyak untuk menggoreng\", \"1 cawan air rebusan ayam\", \"Kicap perapan ayam\", \"Kicap manis\", \"1/2 cawan air rebusan ayam\", \"Campuran cili, halia dan bawang putih (bahan kisar B)\", \"1 sudu besar cuka\", \"1 sudu besar sos cili\", \"Garam dan gula secukup rasa\", \"4 pot beras Siam\", \"4 pot air rebusan ayam\", \"3 sudu campuran halia, bawang putih dan bawang besar\", \"2 sudu besar butter/ marjerin\", \"1/2 sudu kecil serbuk kunyit -\", \"1 helai daun pandan\", \"Air rebusan ayam\", \"1 sup bunjut\", \"3 biji bawang merah kecil\", \"1/2 sudu kecil lada sulah\", \"Garam dan serbuk perasa\", \"Daun sup\"]\n"
     ]
    }
   ],
   "source": [
    "ingredients = []\n",
    "for li in soup.find_all(itemprop=\"recipeIngredient\"):\n",
    "    for index, data in enumerate(li):\n",
    "        if (index==0):\n",
    "            x = re.search(\"^\\*\", data)\n",
    "            if not x:\n",
    "                ingredients.append(data.replace(' \\n', '').replace('\\n', '').replace('\\u00bd', '1/2').replace('\\u2153','1/3').replace('\\u2013','-').strip())       \n",
    "        \n",
    "print(\"\\\"ingredient\\\":\", str(ingredients).replace(\"'\", '\"'))"
   ]
  },
  {
   "cell_type": "code",
   "execution_count": 7,
   "id": "f63d126e-f368-4fe1-9ce3-a4b4aee2d421",
   "metadata": {},
   "outputs": [
    {
     "name": "stdout",
     "output_type": "stream",
     "text": [
      "['Kisar bahan kisar A - halia, bawang putih dan bawang besar. Bahagikan kepada 2 bahagian sama rata: 1 bahagian untuk memerap ayam dan 1 bahagian lagi untuk nasi.', 'Kisar bahan kisar B - cili merah, cili padi, halia dan bawang putih untuk sambal cili.', 'Cuci bersih ayam dan jangan dipotong. Perapkan ayam dalam campuran halia, bawang putih dan bawang besar selama 30 minit.', 'Hiris bawang merah dan daun sup.', 'Rebus ayam bersama bahan perap sehingga ayam masak, kira-kira 30 minit. Kemudian keluarkan ayam dan tuskan.', 'Potong ayam kepada empat bahagian, kemudian gaulkan dengan kicap, madu dan minyak bijan. Perap selama kira-kira 20 minit.', 'Kemudian goreng dalam minyak banyak (deep fry) dengan api sederhana sehingga bahagian luar ayam sedikit garing. Gorengnya tak perlu lama, dan hati-hati supaya tidak hangus.', 'Kemudian angkat dan tuskan.', 'Potong kecil-kecil sebelum dihidangkan.', 'Basuh beras dan tuskan.', 'Panaskan minyak dan butter/marjerin dalam rice cooker. Tumiskan bawang putih, bawang besar dan halia hingga kekuningan.', 'Masukkan beras dan gaul rata.', 'Masukkan air rebusan ayam, serbuk kunyit dan daun pandan dan masak seperti nasi biasa.', 'Bila rice cooker bertukar dari \"Cooking\" kepada \"Keep Warm\", kacau sekali supaya rasa dan warna sekata.', 'Didihkan air rebusan ayam bersama kicap yang digunakan untuk memerap ayam. Tambah kicap, air atau air rebusan jika perlu.', 'Didihkan air rebusan ayam bersama cili dan campuran halia, bawang putih dan bawang besar.', 'Tambah cuka, sos cili, garam dan gula secukupnya. Angkat bila pekat.', 'Tumis bawang merah dan sup bunjut dalam kuali berasingan sehingga bawang garing.', 'Tuangkan tumisan ke dalam air rebusan ayam. Tambah garam, lada sulah dan serbuk perasa. Kemudian angkat.', 'Taburkan hirisan daun sup bila menghidang.']\n"
     ]
    }
   ],
   "source": [
    "preparations = []\n",
    "for li in soup.find_all(itemprop=\"recipeInstructions\"):\n",
    "    for data in li:\n",
    "        data_list = data.text.split(\"\\n\")\n",
    "        for item in data_list:\n",
    "            preparations.append(item.strip())     \n",
    "\n",
    "preparations = list(filter(None, preparations))\n",
    "print(preparations)"
   ]
  },
  {
   "cell_type": "code",
   "execution_count": 8,
   "id": "218105c1-a476-4eb2-9ace-1a0815ff9b7e",
   "metadata": {},
   "outputs": [
    {
     "name": "stdout",
     "output_type": "stream",
     "text": [
      "\"image_url\": \"https://lh3.googleusercontent.com/-cZnUHgBuCIw/WlnGfwkmonI/AAAAAAAAAn4/RunuSgMo-PY_DnD6QS6wxzfbV9algfi9ACHMYCw/s640-e60/nasi%2Bayam%2Bsedap_thumb\"\n",
      "\"title\": Resepi Nasi Ayam Terlajak Sedap\n",
      "\"subtitle\": Nasi ayam terbaik dan paling sedap abad ini\n",
      "\"cooking_duration\": 90\n",
      "\"portion\": 6 serving\n",
      "\"ingredient\": [\"2 inci halia\", \"2 biji bawang besar\", \"7 ulas bawang putih\", \"2 sudu kecil garam\", \"5 biji cili merah\", \"3 biji cili padi\", \"1 inci halia\", \"5 ulas bawang putih\", \"1 ekor ayam\", \"3 sudu campuran halia, bawang putih dan bawang besar\", \"10 gelas air\", \"1/2 sudu kecil minyak bijan\", \"2 sudu besar kicap manis\", \"2 sudu besar kicap cair\", \"2 sudu besar sos tiram\", \"1 sudu besar madu -\", \"Minyak untuk menggoreng\", \"1 cawan air rebusan ayam\", \"Kicap perapan ayam\", \"Kicap manis\", \"1/2 cawan air rebusan ayam\", \"Campuran cili, halia dan bawang putih (bahan kisar B)\", \"1 sudu besar cuka\", \"1 sudu besar sos cili\", \"Garam dan gula secukup rasa\", \"4 pot beras Siam\", \"4 pot air rebusan ayam\", \"3 sudu campuran halia, bawang putih dan bawang besar\", \"2 sudu besar butter/ marjerin\", \"1/2 sudu kecil serbuk kunyit -\", \"1 helai daun pandan\", \"Air rebusan ayam\", \"1 sup bunjut\", \"3 biji bawang merah kecil\", \"1/2 sudu kecil lada sulah\", \"Garam dan serbuk perasa\", \"Daun sup\"]\n",
      "\"preparation\": [\"Kisar bahan kisar A - halia, bawang putih dan bawang besar. Bahagikan kepada 2 bahagian sama rata: 1 bahagian untuk memerap ayam dan 1 bahagian lagi untuk nasi.\", \"Kisar bahan kisar B - cili merah, cili padi, halia dan bawang putih untuk sambal cili.\", \"Cuci bersih ayam dan jangan dipotong. Perapkan ayam dalam campuran halia, bawang putih dan bawang besar selama 30 minit.\", \"Hiris bawang merah dan daun sup.\", \"Rebus ayam bersama bahan perap sehingga ayam masak, kira-kira 30 minit. Kemudian keluarkan ayam dan tuskan.\", \"Potong ayam kepada empat bahagian, kemudian gaulkan dengan kicap, madu dan minyak bijan. Perap selama kira-kira 20 minit.\", \"Kemudian goreng dalam minyak banyak (deep fry) dengan api sederhana sehingga bahagian luar ayam sedikit garing. Gorengnya tak perlu lama, dan hati-hati supaya tidak hangus.\", \"Kemudian angkat dan tuskan.\", \"Potong kecil-kecil sebelum dihidangkan.\", \"Basuh beras dan tuskan.\", \"Panaskan minyak dan butter/marjerin dalam rice cooker. Tumiskan bawang putih, bawang besar dan halia hingga kekuningan.\", \"Masukkan beras dan gaul rata.\", \"Masukkan air rebusan ayam, serbuk kunyit dan daun pandan dan masak seperti nasi biasa.\", \"Bila rice cooker bertukar dari \"Cooking\" kepada \"Keep Warm\", kacau sekali supaya rasa dan warna sekata.\", \"Didihkan air rebusan ayam bersama kicap yang digunakan untuk memerap ayam. Tambah kicap, air atau air rebusan jika perlu.\", \"Didihkan air rebusan ayam bersama cili dan campuran halia, bawang putih dan bawang besar.\", \"Tambah cuka, sos cili, garam dan gula secukupnya. Angkat bila pekat.\", \"Tumis bawang merah dan sup bunjut dalam kuali berasingan sehingga bawang garing.\", \"Tuangkan tumisan ke dalam air rebusan ayam. Tambah garam, lada sulah dan serbuk perasa. Kemudian angkat.\", \"Taburkan hirisan daun sup bila menghidang.\"]\n"
     ]
    }
   ],
   "source": [
    "print(\"\\\"image_url\\\":\", \"\\\"\"+ el['src'] +\"\\\"\")\n",
    "print(\"\\\"title\\\":\", title)\n",
    "print(\"\\\"subtitle\\\":\", subtitle)\n",
    "print(\"\\\"cooking_duration\\\":\", recipe_total_time)\n",
    "print(\"\\\"portion\\\":\", portion, \"serving\")\n",
    "print(\"\\\"ingredient\\\":\", str(ingredients).replace(\"'\", '\"'))\n",
    "print(\"\\\"preparation\\\":\", str(preparations).replace(\"'\", '\"'))"
   ]
  },
  {
   "cell_type": "code",
   "execution_count": 9,
   "id": "bd2fcec7-b6fe-4bd1-97ae-4dd8ac369c53",
   "metadata": {},
   "outputs": [
    {
     "name": "stdout",
     "output_type": "stream",
     "text": [
      "Data saved \n",
      "\n",
      "\n",
      "{'data': [{'id': 1, 'image_url': 'https://3.bp.blogspot.com/-cmvjspHCqtA/WLkeuHDoHgI/AAAAAAAAAJw/lxGE7a8ywlQZkPQWQabe3OD0mgcjskFPgCLcB/s1600-e60/nasi%2Bgoreng%2Bkampung.jpg', 'title': 'Resepi Nasi Goreng Kampung Sedap', 'subtitle': 'Hidangan nasi goreng kampung dengan ikan bilis, telur mata kerbau dan timun', 'like': '2442', 'cooking_duration': 30, 'author': 'Admin', 'portion': '3 serving', 'ingredient': ['3 mangkuk nasi sejuk', '1 genggam ikan bilis (satu sudu untuk ditumbuk, selebihnya untuk digoreng)', '10 biji cili padi (kurangkan jika tak suka pedas)', '10 batang kacang panjang (boleh digantikan dengan kobis atau kangkung)', '3 ulas bawang putih', '3 biji bawang merah kecil', '1 sudu besar sos tiram', '5 sudu besar minyak masak', 'Garam dan serbuk perisa', '3 biji telur (optional - untuk telur mata kerbau)', 'Hirisan timun (optional)'], 'preparation': ['Basuh ikan bilis dan tuskan.', 'Leraikan ketulan-ketulan nasi dengan jari.', 'Tumbuk kasar bawang putih, bawang merah, ikan bilis dan cili padi.', 'Bersihkan kacang panjang dan potong sepanjang 1 cm.', 'Panaskan kuali, masukkan minyak dan goreng ikan bilis hingga garing. Kemudian keluarkan ikan bilis dan ketepikan.', 'Masukkan bahan tumbuk ke dalam minyak yang sama dan tumiskan sehingga naik bau.', 'Masukkan sos tiram, kacang panjang, garam dan serbuk perasa. Kacau dalam 2 minit.', 'Masukkan nasi dan kacau rata dalam 5 minit sehingga keseluruhan nasi disalut tumisan dan masak sekata.', 'Hidangkan panas-panas bersama telur mata, sambal belacan dan ulam timun.']}, {'id': 2, 'image_url': 'https://4.bp.blogspot.com/-nhGTiEZYdmo/WazyLSVkYxI/AAAAAAAAGqM/525-fB1LtyoVJ7AkBu-AgNEFdgdI4tvmQCLcBGAs/s1600/perut%2Blembu%2Bair%2Basam.JPG', 'title': 'Resepi Perut Lembu Air Asam Kelantan', 'subtitle': 'Perut lembu air asam memang menyelerakan', 'like': '1193', 'cooking_duration': 40, 'author': 'Admin', 'portion': '5 serving', 'ingredient': ['1/2 kg perut kitab atau perut muda* yang telah dicuci', '4 biji limau nipis**', 'Cuka (jika perlu)', '5 biji bawang merah', '8 biji cili padi', '1 inci belacan', 'Garam dan gula secukup rasa', 'Air untuk merebus'], 'preparation': ['Hiris kasar bawang merah dan potong kecil cili padi.', 'Rebus perut lembu dan usus. Kalau nak kurangkan lemak dan bau lembu, buang air rebusan pertama, ganti dengan air baharu dan teruskan merebus. Bila empuk, angkat dan biarkan sejuk.', 'Untuk air asam: campurkan air rebusan perut, perahan limau nipis, hirisan cili padi, hirisan bawang merah dan belacan di dalam mangkuk. Lenyek-lenyekkan bawang, cili dan belacan dan kacau untuk mesrakan rasa. Perasakan dengan garam dan gula.', 'Potong perut lembu kecil-kecil bila ia dah sejuk. Perut kitab potong kepada saiz 1cm x 3cm. Perut muda potong melintang sepanjang 2cm.', 'Masukkan perut ke dalam air asam dan gaul sebati.', 'Hidangkan panas-panas.']}, {'id': 3, 'image_url': 'https://2.bp.blogspot.com/-EXTMV-W4Ic8/WrRumAym1GI/AAAAAAAAHWs/i6bkZdoerXocSJxRrIRkwBYzq-2KgWGHgCLcBGAs/s1600/sup%2Bmiso%2Bsoup.jpg', 'title': 'Resepi Sup Miso Mudah', 'subtitle': 'Sup miso ... sedap dihirup bila cuaca sejuk', 'like': '380', 'cooking_duration': 15, 'author': 'Admin', 'portion': '2 serving', 'ingredient': ['1 sudu besar pes miso', '1 sudu kecil rumpai laut (', '1 sudu kecil serbuk stok', '150gm tauhu lembut (1/2 pek)', '70gm cendawan -', '1 batang daun bawang -', '3 cawan air'], 'preparation': ['Potong kiub tauhu lembut.', 'Hiris nipis daun bawang.', 'Masak air di dalam periuk bersama cendawan dan dashi. Kalau nak tambah lobak putih (daikon) pun boleh.', 'Bila mendidih, kecilkan api sehingga sup berhenti menggelegak. Kemudian masukkan wakame kering dan tauhu lembut.', 'Pastikan air tidak mendidih ketika pes miso dimasukkan. Miso mengandungi bakteria probiotik yang bagus untuk kesihatan. Air mendidih akan membunuh probiotik dalam miso.', 'Letak pes miso di dalam senduk atau strainer, kemudian separa selamkan ke dalam sup, lepas tu tenyeh-tenyehkan pes miso menggunakan belakang sudu untuk melarutkannya ke dalam sup.', 'Bila semua pes dah dilarutkan ke dalam sup, tutup api.', 'Angkat, dan hidangkan segera panas-panas.']}, {'id': 4, 'image_url': 'https://lh3.googleusercontent.com/-cZnUHgBuCIw/WlnGfwkmonI/AAAAAAAAAn4/RunuSgMo-PY_DnD6QS6wxzfbV9algfi9ACHMYCw/s640-e60/nasi%2Bayam%2Bsedap_thumb', 'title': 'Resepi Nasi Ayam Terlajak Sedap', 'subtitle': 'Nasi ayam terbaik dan paling sedap abad ini', 'like': '2766', 'cooking_duration': 90, 'author': 'Admin', 'portion': '6 serving', 'ingredient': ['2 inci halia', '2 biji bawang besar', '7 ulas bawang putih', '2 sudu kecil garam', '5 biji cili merah', '3 biji cili padi', '1 inci halia', '5 ulas bawang putih', '1 ekor ayam', '3 sudu campuran halia, bawang putih dan bawang besar', '10 gelas air', '1/2 sudu kecil minyak bijan', '2 sudu besar kicap manis', '2 sudu besar kicap cair', '2 sudu besar sos tiram', '1 sudu besar madu -', 'Minyak untuk menggoreng', '1 cawan air rebusan ayam', 'Kicap perapan ayam', 'Kicap manis', '1/2 cawan air rebusan ayam', 'Campuran cili, halia dan bawang putih (bahan kisar B)', '1 sudu besar cuka', '1 sudu besar sos cili', 'Garam dan gula secukup rasa', '4 pot beras Siam', '4 pot air rebusan ayam', '3 sudu campuran halia, bawang putih dan bawang besar', '2 sudu besar butter/ marjerin', '1/2 sudu kecil serbuk kunyit -', '1 helai daun pandan', 'Air rebusan ayam', '1 sup bunjut', '3 biji bawang merah kecil', '1/2 sudu kecil lada sulah', 'Garam dan serbuk perasa', 'Daun sup'], 'preparation': ['Kisar bahan kisar A - halia, bawang putih dan bawang besar. Bahagikan kepada 2 bahagian sama rata: 1 bahagian untuk memerap ayam dan 1 bahagian lagi untuk nasi.', 'Kisar bahan kisar B - cili merah, cili padi, halia dan bawang putih untuk sambal cili.', 'Cuci bersih ayam dan jangan dipotong. Perapkan ayam dalam campuran halia, bawang putih dan bawang besar selama 30 minit.', 'Hiris bawang merah dan daun sup.', 'Rebus ayam bersama bahan perap sehingga ayam masak, kira-kira 30 minit. Kemudian keluarkan ayam dan tuskan.', 'Potong ayam kepada empat bahagian, kemudian gaulkan dengan kicap, madu dan minyak bijan. Perap selama kira-kira 20 minit.', 'Kemudian goreng dalam minyak banyak (deep fry) dengan api sederhana sehingga bahagian luar ayam sedikit garing. Gorengnya tak perlu lama, dan hati-hati supaya tidak hangus.', 'Kemudian angkat dan tuskan.', 'Potong kecil-kecil sebelum dihidangkan.', 'Basuh beras dan tuskan.', 'Panaskan minyak dan butter/marjerin dalam rice cooker. Tumiskan bawang putih, bawang besar dan halia hingga kekuningan.', 'Masukkan beras dan gaul rata.', 'Masukkan air rebusan ayam, serbuk kunyit dan daun pandan dan masak seperti nasi biasa.', 'Bila rice cooker bertukar dari \"Cooking\" kepada \"Keep Warm\", kacau sekali supaya rasa dan warna sekata.', 'Didihkan air rebusan ayam bersama kicap yang digunakan untuk memerap ayam. Tambah kicap, air atau air rebusan jika perlu.', 'Didihkan air rebusan ayam bersama cili dan campuran halia, bawang putih dan bawang besar.', 'Tambah cuka, sos cili, garam dan gula secukupnya. Angkat bila pekat.', 'Tumis bawang merah dan sup bunjut dalam kuali berasingan sehingga bawang garing.', 'Tuangkan tumisan ke dalam air rebusan ayam. Tambah garam, lada sulah dan serbuk perasa. Kemudian angkat.', 'Taburkan hirisan daun sup bila menghidang.']}]}\n"
     ]
    }
   ],
   "source": [
    "# Finalize and clean up the code into class\n",
    "# This code only work for Aneka Recipe\n",
    "# Please ask for user permission if you are doing something with the recipe data and image as it belong to website owner\n",
    "# JSON only except double quote\n",
    "\n",
    "from bs4 import BeautifulSoup\n",
    "from random import randrange\n",
    "import requests\n",
    "import re\n",
    "import json\n",
    "\n",
    "# Get the ingredient and convert it to string\n",
    "def get_ingredient(soup):    \n",
    "    ingredient_raw = soup.find('div')\n",
    "    ingredients = []\n",
    "    for li in ingredient_raw.find_all(itemprop=\"recipeIngredient\"):\n",
    "        for index, data in enumerate(li):\n",
    "            if (index==0):\n",
    "                x = re.search(\"^\\*\", data)\n",
    "                if not x:\n",
    "                    ingredients.append(data.replace(' \\n', '').replace('\\n', '').replace('\\u00bd', '1/2').replace('\\u2153','1/3').replace('\\u2013','-').strip())          \n",
    "    return ingredients\n",
    "\n",
    "# Get recipe preparation methods and convert it to string\n",
    "def get_preparation_method(soup):\n",
    "    preparations = []\n",
    "    for li in soup.find_all(itemprop=\"recipeInstructions\"):\n",
    "        for data in li:\n",
    "            data_list = data.text.split(\"\\n\")\n",
    "            for item in data_list:\n",
    "                preparations.append(item.strip())     \n",
    "\n",
    "    preparations = list(filter(None, preparations))\n",
    "    return preparations\n",
    "\n",
    "# Get recipe information data\n",
    "def get_recipe_info(index,soup):\n",
    "    title = soup.find(\"title\").text\n",
    "    \n",
    "    subtitle = soup.find(\"p\", class_=\"img-caption\").text\n",
    "    \n",
    "    img_arg = \"img\", {\"title\": title}\n",
    "    image_url = soup.find_all(img_arg)[1]['src']\n",
    "    \n",
    "    recipe_meta = soup.find(\"p\", class_=\"recipe-meta\").text\n",
    "    recipe_meta = recipe_meta.split(\"♦ \")\n",
    "    preparation_time = re.findall(r'\\d+', recipe_meta[0])[0]\n",
    "    cooking_time = re.findall(r'\\d+', recipe_meta[1])[0]\n",
    "    \n",
    "    recipe_total_time = int(preparation_time) + int(cooking_time)\n",
    "    \n",
    "    portion = re.findall(r'\\d+', recipe_meta[2])[0] + \" serving\"\n",
    "    \n",
    "    ingredient = get_ingredient(soup)\n",
    "    preparation = get_preparation_method(soup)\n",
    "    \n",
    "    #extra data for my use case\n",
    "    id_ = index+1\n",
    "    like = str(randrange(200,4000))\n",
    "    author = \"Admin\"\n",
    "        \n",
    "    return {\"id\":id_, \"image_url\":image_url, \"title\":title, \"subtitle\":subtitle, \"like\":like, \"cooking_duration\":recipe_total_time, \n",
    "            \"author\":author, \"portion\":portion, \"ingredient\":ingredient, \"preparation\":preparation}\n",
    "\n",
    "# Scrape the recipe data from URL\n",
    "def scrape_recipe(url,index):\n",
    "    try:\n",
    "        page = requests.get(url)\n",
    "        soup = BeautifulSoup(page.text, \"html.parser\")\n",
    "        info = get_recipe_info(index,soup)\n",
    "        return info\n",
    "        \n",
    "    except Exception as e:\n",
    "        print(\"error scraping data from\", url , e)\n",
    "    \n",
    "def save_to_local(filename, data_dictionary):\n",
    "    try:\n",
    "        with open(filename, \"w\") as outfile:\n",
    "            json.dump(data_dictionary, outfile)\n",
    "        return True\n",
    "    except:\n",
    "        return False\n",
    "\n",
    "def read_json_file(filename):\n",
    "    with open(filename, 'r') as openfile:\n",
    "        return json.load(openfile)\n",
    "\n",
    "\n",
    "links = ['https://www.anekaresipi.com/2017/03/resepi-nasi-goreng-kampung-sedap-mudah.html',\n",
    "        'https://www.anekaresipi.com/2017/09/air-asam-perut-lembu-kelantan.html',\n",
    "        'https://www.anekaresipi.com/2018/03/resepi-sup-miso-halal-mudah.html',\n",
    "        'https://www.anekaresipi.com/2017/05/resepi-nasi-ayam-garing-sedap-simple.html']\n",
    "\n",
    "data_list=[]\n",
    "for index, link in enumerate(links):\n",
    "    data = scrape_recipe(link,index)\n",
    "    data_list.append(data)\n",
    "\n",
    "filename = \"recipesdata.json\"\n",
    "data_dictionary = {\"data\":data_list}\n",
    "save_status = save_to_local(filename, data_dictionary)\n",
    "if(save_status):\n",
    "    print(\"Data saved \\n\\n\")\n",
    "\n",
    "try:\n",
    "    read_content = read_json_file(filename)\n",
    "    print(read_content)\n",
    "\n",
    "except exception as e:\n",
    "    print(\"error in reading file due to\", e)"
   ]
  }
 ],
 "metadata": {
  "kernelspec": {
   "display_name": "Python 3 (ipykernel)",
   "language": "python",
   "name": "python3"
  },
  "language_info": {
   "codemirror_mode": {
    "name": "ipython",
    "version": 3
   },
   "file_extension": ".py",
   "mimetype": "text/x-python",
   "name": "python",
   "nbconvert_exporter": "python",
   "pygments_lexer": "ipython3",
   "version": "3.10.0"
  }
 },
 "nbformat": 4,
 "nbformat_minor": 5
}
