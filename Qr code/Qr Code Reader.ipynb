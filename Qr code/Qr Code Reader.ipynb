{
 "cells": [
  {
   "cell_type": "code",
   "execution_count": 1,
   "id": "dee3e7e9",
   "metadata": {},
   "outputs": [
    {
     "name": "stdout",
     "output_type": "stream",
     "text": [
      "Requirement already satisfied: opencv-python in d:\\program\\anaconda\\lib\\site-packages (4.5.3.56)\n",
      "Requirement already satisfied: numpy>=1.17.3 in d:\\program\\anaconda\\lib\\site-packages (from opencv-python) (1.20.1)\n"
     ]
    }
   ],
   "source": [
    "!pip install opencv-python"
   ]
  },
  {
   "cell_type": "code",
   "execution_count": 2,
   "id": "5e5d8a7e",
   "metadata": {},
   "outputs": [],
   "source": [
    "import cv2"
   ]
  },
  {
   "cell_type": "code",
   "execution_count": 3,
   "id": "a7bdeb64",
   "metadata": {},
   "outputs": [
    {
     "name": "stdout",
     "output_type": "stream",
     "text": [
      "Decoded text is:  https://www.youtube.com/watch?v=06ht9MyJLT4\n"
     ]
    }
   ],
   "source": [
    "# Izmary\n",
    "# Qr code reader python project using OpenCV Library\n",
    "# install OpenCV Library (if OpenCV Library don't exist on machine)\n",
    "\n",
    "d = cv2.QRCodeDetector()\n",
    "val, _, _ = d.detectAndDecode(cv2.imread(\"Directory\\projectName.jpg\"))\n",
    "print(\"Decoded text is: \", val)\n"
   ]
  },
  {
   "cell_type": "code",
   "execution_count": null,
   "id": "2eb889d0",
   "metadata": {},
   "outputs": [],
   "source": []
  }
 ],
 "metadata": {
  "kernelspec": {
   "display_name": "Python 3 (ipykernel)",
   "language": "python",
   "name": "python3"
  },
  "language_info": {
   "codemirror_mode": {
    "name": "ipython",
    "version": 3
   },
   "file_extension": ".py",
   "mimetype": "text/x-python",
   "name": "python",
   "nbconvert_exporter": "python",
   "pygments_lexer": "ipython3",
   "version": "3.10.0"
  }
 },
 "nbformat": 4,
 "nbformat_minor": 5
}
